{
 "cells": [
  {
   "cell_type": "code",
   "execution_count": 32,
   "metadata": {},
   "outputs": [],
   "source": [
    "import scipy.io as sio\n",
    "import numpy as np\n",
    "from tqdm import trange\n",
    "\n",
    "from Utilities.conditional_divergence import *"
   ]
  },
  {
   "cell_type": "code",
   "execution_count": 2,
   "metadata": {},
   "outputs": [],
   "source": [
    "# hyperparameters\n",
    "KERNEL_SIZE = 0.05"
   ]
  },
  {
   "cell_type": "code",
   "execution_count": 5,
   "metadata": {},
   "outputs": [
    {
     "name": "stdout",
     "output_type": "stream",
     "text": [
      "15\n",
      "(3394, 310)\n",
      "15\n",
      "(3394, 1)\n"
     ]
    }
   ],
   "source": [
    "# load data\n",
    "EEG_X = sio.loadmat('./SEED_III/EEG_X.mat')['X'][0]     # 15 x 3394 x 310\n",
    "EEG_Y = sio.loadmat('./SEED_III/EEG_Y.mat')['Y'][0]     # 15 x 3394 x 1\n",
    "\n",
    "Features = [0] * EEG_X.shape[0]\n",
    "for i in range(EEG_X.shape[0]):\n",
    "    Features[i] = np.array(EEG_X[i])\n",
    "\n",
    "Labels = [0] * EEG_Y.shape[0]\n",
    "for i in range(EEG_Y.shape[0]):\n",
    "    Labels[i] = np.array(EEG_Y[i])\n",
    "\n",
    "print(len(Features))\n",
    "print(Features[0].shape)\n",
    "print(len(Labels))\n",
    "print(Labels[0].shape)"
   ]
  },
  {
   "cell_type": "code",
   "execution_count": 8,
   "metadata": {},
   "outputs": [
    {
     "name": "stdout",
     "output_type": "stream",
     "text": [
      "Person 0\n",
      "Person 1\n",
      "Person 2\n",
      "Person 3\n",
      "Person 4\n",
      "Person 5\n",
      "Person 6\n",
      "Person 7\n",
      "Person 8\n",
      "Person 9\n",
      "Person 10\n",
      "Person 11\n",
      "Person 12\n",
      "Person 13\n",
      "Person 14\n"
     ]
    }
   ],
   "source": [
    "Persons_Cov_X = []\n",
    "Persons_Cov_XY = []\n",
    "Persons_CorrEnt_X = []\n",
    "Persons_CorrEnt_XY = []\n",
    "for i in range(len(Features)):\n",
    "    print(\"Person\", i)\n",
    "\n",
    "    data = Features[i].transpose()\n",
    "    Cov = np.array([[np.cov(data[i,:],data[j,:])[0,1] for j in range(data.shape[0])] for i in range(data.shape[0])])\n",
    "    Persons_Cov_X.append(Cov)\n",
    "\n",
    "    # data = Features[i]\n",
    "    # Corr = corrent_matrix(data, kernel_size=KERNEL_SIZE)\n",
    "    # Persons_CorrEnt_X.append(Corr)\n",
    "\n",
    "    data = np.hstack((Features[i], Labels[i])).transpose()\n",
    "    Cov = np.array([[np.cov(data[i,:],data[j,:])[0,1] for j in range(data.shape[0])] for i in range(data.shape[0])])\n",
    "    Persons_Cov_XY.append(Cov)\n",
    "\n",
    "    # data =np.hstack((Features[i], Labels[i]))\n",
    "    # Corr = corrent_matrix(data, kernel_size=KERNEL_SIZE)\n",
    "    # Persons_CorrEnt_XY.append(Corr)"
   ]
  },
  {
   "cell_type": "code",
   "execution_count": 17,
   "metadata": {},
   "outputs": [],
   "source": [
    "von_Neumann_Cov_X =np.zeros((len(Features), len(Features)))\n",
    "von_Neumann_Cov_XY =np.zeros((len(Features), len(Features)))\n",
    "# von_Neumann_CorrEnt_X =np.zeros((len(Features), len(Features)))\n",
    "# von_Neumann_CorrEnt_XY =np.zeros((len(Features), len(Features)))\n",
    "\n",
    "LogDet_Cov_X =np.zeros((len(Features), len(Features)))\n",
    "LogDet_Cov_XY =np.zeros((len(Features), len(Features)))\n",
    "# LogDet_CorrEnt_X =np.zeros((len(Features), len(Features)))\n",
    "# LogDet_CorrEnt_XY =np.zeros((len(Features), len(Features)))\n",
    "\n",
    "\n",
    "for i in range(len(Features)):        \n",
    "    for j in range(len(Features)):\n",
    "        von_Neumann_Cov_X[i,j] = von_Neumann_divergence_Eff(Persons_Cov_X[i], Persons_Cov_X[j])\n",
    "        von_Neumann_Cov_XY[i,j] = von_Neumann_divergence_Eff(Persons_Cov_XY[i], Persons_Cov_XY[j])\n",
    "        # von_Neumann_CorrEnt_X[i,j] = von_Neumann_divergence_Eff(Persons_CorrEnt_X[i], Persons_CorrEnt_X[j])\n",
    "        # von_Neumann_CorrEnt_XY[i,j] = von_Neumann_divergence_Eff(Persons_CorrEnt_XY[i], Persons_CorrEnt_XY[j])\n",
    "        LogDet_Cov_X[i,j] = log_det_divergenceEigSort(Persons_Cov_X[i], Persons_Cov_X[j])\n",
    "        LogDet_Cov_XY[i,j] = log_det_divergenceEigSort(Persons_Cov_XY[i], Persons_Cov_XY[j])\n",
    "        # LogDet_CorrEnt_X[i,j] = log_det_divergenceEigSort(Persons_CorrEnt_X[i], Persons_CorrEnt_X[j])\n",
    "        # LogDet_CorrEnt_XY[i,j] = log_det_divergenceEigSort(Persons_CorrEnt_XY[i], Persons_CorrEnt_XY[j])\n",
    "\n",
    "\n",
    "Div_von_Neumann_Cov =np.zeros((len(Features), len(Features)))\n",
    "# Div_von_Neumann_CorrEnt =np.zeros((len(Features), len(Features)))\n",
    "Div_LogDet_Cov =np.zeros((len(Features), len(Features)))\n",
    "# Div_LogDet_CorrEnt =np.zeros((len(Features), len(Features)))\n",
    "\n",
    "for i in range(len(Features)):        \n",
    "    for j in range(i+1):\n",
    "        Div_von_Neumann_Cov[i,j] = 0.5 * (von_Neumann_Cov_XY[i,j] + von_Neumann_Cov_XY[j,i] - von_Neumann_Cov_X[i,j] - von_Neumann_Cov_X[j,i])\n",
    "        # Div_von_Neumann_CorrEnt[i,j] = 0.5*(von_Neumann_CorrEnt_XY[i,j] + von_Neumann_CorrEnt_XY[j,i] - von_Neumann_CorrEnt_X[i,j] - von_Neumann_CorrEnt_X[j,i])\n",
    "        Div_LogDet_Cov[i,j] = 0.5 * (LogDet_Cov_XY[i,j] + LogDet_Cov_XY[j,i] - LogDet_Cov_X[i,j] - LogDet_Cov_X[j,i])\n",
    "        # Div_LogDet_CorrEnt[i,j] = 0.5 * (LogDet_CorrEnt_XY[i,j] + LogDet_CorrEnt_XY[j,i] - LogDet_CorrEnt_X[i,j] - LogDet_CorrEnt_X[j,i])\n",
    "        Div_von_Neumann_Cov[j,i] = Div_von_Neumann_Cov[i,j]\n",
    "        # Div_von_Neumann_CorrEnt[j,i] = Div_von_Neumann_CorrEnt[i,j]\n",
    "        Div_LogDet_Cov[j,i] = Div_LogDet_Cov[i,j]\n",
    "        # Div_LogDet_CorrEnt[j,i] = Div_LogDet_CorrEnt[i,j]"
   ]
  },
  {
   "cell_type": "code",
   "execution_count": 19,
   "metadata": {},
   "outputs": [
    {
     "name": "stdout",
     "output_type": "stream",
     "text": [
      "linear kernel\n"
     ]
    },
    {
     "data": {
      "text/plain": [
       "<matplotlib.colorbar.Colorbar at 0x1d81e188340>"
      ]
     },
     "execution_count": 19,
     "metadata": {},
     "output_type": "execute_result"
    },
    {
     "data": {
      "text/plain": [
       "<Figure size 432x288 with 0 Axes>"
      ]
     },
     "metadata": {},
     "output_type": "display_data"
    },
    {
     "data": {
      "image/png": "[encoded data removed]",
      "text/plain": [
       "<Figure size 1440x1440 with 4 Axes>"
      ]
     },
     "metadata": {
      "needs_background": "light"
     },
     "output_type": "display_data"
    }
   ],
   "source": [
    "# print(\"linear kernel\")\n",
    "# plt.subplots_adjust(wspace=1, hspace=1)\n",
    "\n",
    "# f = plt.figure(figsize=(20,20))\n",
    "\n",
    "# ax1 = f.add_subplot(221)\n",
    "# i1 = ax1.imshow(Div_von_Neumann_Cov, cmap='hot', interpolation='nearest')\n",
    "# plt.title(\"Div_von_Neumann_Cov\")\n",
    "# plt.colorbar(i1,ax=ax1)\n",
    "\n",
    "\n",
    "# ax1 = f.add_subplot(222)\n",
    "# i1 = ax1.imshow(Div_von_Neumann_CorrEnt, cmap='hot', interpolation='nearest')\n",
    "# plt.title(\"Div_von_Neumann_CorrEnt\")\n",
    "# plt.colorbar(i1,ax=ax1)\n",
    "\n",
    "# ax1 = f.add_subplot(223)\n",
    "# i1 = ax1.imshow(Div_LogDet_Cov, cmap='hot', interpolation='nearest')\n",
    "# plt.title(\"Div_LogDet_Cov\")\n",
    "# plt.colorbar(i1,ax=ax1)\n",
    "\n",
    "# ax1 = f.add_subplot(224)\n",
    "# i1 = ax1.imshow(Div_LogDet_CorrEnt, cmap='hot', interpolation='nearest')\n",
    "# plt.title(\"Div_LogDet_CorrEnt\")\n",
    "# plt.colorbar(i1,ax=ax1)\n",
    "\n",
    "print(\"linear kernel\")\n",
    "plt.subplots_adjust(wspace=1, hspace=1)\n",
    "\n",
    "f = plt.figure(figsize=(20,20))\n",
    "\n",
    "ax1 = f.add_subplot(221)\n",
    "i1 = ax1.imshow(Div_von_Neumann_Cov, cmap='hot', interpolation='nearest')\n",
    "plt.title(\"Div_von_Neumann_Cov\")\n",
    "plt.colorbar(i1,ax=ax1)\n",
    "\n",
    "ax1 = f.add_subplot(222)\n",
    "i1 = ax1.imshow(Div_LogDet_Cov, cmap='hot', interpolation='nearest')\n",
    "plt.title(\"Div_LogDet_Cov\")\n",
    "plt.colorbar(i1,ax=ax1)"
   ]
  },
  {
   "cell_type": "code",
   "execution_count": 11,
   "metadata": {},
   "outputs": [
    {
     "name": "stdout",
     "output_type": "stream",
     "text": [
      "[[ 6.82121026e-13  2.06470364e+01  7.11002207e+00  7.19746883e+00\n",
      "   7.40672070e+00  4.55613979e+00  6.35045330e+00  8.82141366e+00\n",
      "   8.22266088e+00  3.41756109e+00  5.19931749e+00  6.77260869e+00\n",
      "   5.11394215e+00  5.56585915e+00  5.33562105e+00]\n",
      " [ 2.06470364e+01  3.63797881e-12  7.84470985e+00  1.07586318e+01\n",
      "   1.66238814e+01  1.29381627e+01  7.59928361e+00  1.76548061e+01\n",
      "   1.25844291e+01  6.12886993e+00  8.70632308e+00  8.58892096e+00\n",
      "   1.71935200e+01  6.79305701e+00  7.61660487e+00]\n",
      " [ 7.11002207e+00  7.84470985e+00  4.54747351e-13  6.16491070e+00\n",
      "   5.79294796e+00  5.24553180e+00  6.92605810e+00  7.57012959e+00\n",
      "   5.36045951e+00  4.38971441e+00  4.11545650e+00  7.54027182e+00\n",
      "   7.12580647e+00  5.77917183e+00  4.77227377e+00]\n",
      " [ 7.19746883e+00  1.07586318e+01  6.16491070e+00 -1.25055521e-12\n",
      "   7.26488790e+00  6.48832689e+00  6.87119842e+00  6.35446488e+00\n",
      "   5.49460925e+00  4.91456339e+00  4.97988424e+00  8.83633917e+00\n",
      "   6.13616606e+00  5.34888998e+00  6.19153892e+00]\n",
      " [ 7.40672070e+00  1.66238814e+01  5.79294796e+00  7.26488790e+00\n",
      "  -5.68434189e-13  7.35967602e+00  7.08999239e+00  5.33693558e+00\n",
      "   6.41450104e+00  1.12757949e+01  5.79565890e+00  7.67310361e+00\n",
      "   6.20868921e+00  1.03987619e+01  6.90816225e+00]\n",
      " [ 4.55613979e+00  1.29381627e+01  5.24553180e+00  6.48832689e+00\n",
      "   7.35967602e+00 -1.98951966e-13  3.28672525e+00  7.33738794e+00\n",
      "   6.21688182e+00  4.84938235e+00  3.70130137e+00  6.01323334e+00\n",
      "   4.84514562e+00  5.54947211e+00  3.26747278e+00]\n",
      " [ 6.35045330e+00  7.59928361e+00  6.92605810e+00  6.87119842e+00\n",
      "   7.08999239e+00  3.28672525e+00 -5.68434189e-14  6.67359147e+00\n",
      "   5.84776240e+00  6.44565744e+00  4.23190174e+00  6.57665233e+00\n",
      "   8.06342629e+00  7.22782103e+00  4.15092628e+00]\n",
      " [ 8.82141366e+00  1.76548061e+01  7.57012959e+00  6.35446488e+00\n",
      "   5.33693558e+00  7.33738794e+00  6.67359147e+00  1.13686838e-13\n",
      "   6.14442670e+00  9.98385760e+00  3.87575938e+00  6.05661624e+00\n",
      "   5.33464969e+00  7.16747047e+00  5.96562196e+00]\n",
      " [ 8.22266088e+00  1.25844291e+01  5.36045951e+00  5.49460925e+00\n",
      "   6.41450104e+00  6.21688182e+00  5.84776240e+00  6.14442670e+00\n",
      "   1.13686838e-12  9.09279563e+00  4.77510597e+00  4.88803179e+00\n",
      "   5.98381834e+00  7.14796979e+00  5.11451762e+00]\n",
      " [ 3.41756109e+00  6.12886993e+00  4.38971441e+00  4.91456339e+00\n",
      "   1.12757949e+01  4.84938235e+00  6.44565744e+00  9.98385760e+00\n",
      "   9.09279563e+00  0.00000000e+00  4.70006373e+00  7.50980162e+00\n",
      "   3.57922164e+00  4.02931681e+00  5.56338095e+00]\n",
      " [ 5.19931749e+00  8.70632308e+00  4.11545650e+00  4.97988424e+00\n",
      "   5.79565890e+00  3.70130137e+00  4.23190174e+00  3.87575938e+00\n",
      "   4.77510597e+00  4.70006373e+00  1.02318154e-12  4.66844710e+00\n",
      "   4.29839640e+00  5.45422397e+00  4.63199409e+00]\n",
      " [ 6.77260869e+00  8.58892096e+00  7.54027182e+00  8.83633917e+00\n",
      "   7.67310361e+00  6.01323334e+00  6.57665233e+00  6.05661624e+00\n",
      "   4.88803179e+00  7.50980162e+00  4.66844710e+00  9.66338121e-13\n",
      "   6.37363557e+00  6.57547363e+00  5.27940377e+00]\n",
      " [ 5.11394215e+00  1.71935200e+01  7.12580647e+00  6.13616606e+00\n",
      "   6.20868921e+00  4.84514562e+00  8.06342629e+00  5.33464969e+00\n",
      "   5.98381834e+00  3.57922164e+00  4.29839640e+00  6.37363557e+00\n",
      "   1.70530257e-13  5.68797796e+00  5.17062403e+00]\n",
      " [ 5.56585915e+00  6.79305701e+00  5.77917183e+00  5.34888998e+00\n",
      "   1.03987619e+01  5.54947211e+00  7.22782103e+00  7.16747047e+00\n",
      "   7.14796979e+00  4.02931681e+00  5.45422397e+00  6.57547363e+00\n",
      "   5.68797796e+00 -9.09494702e-13  3.59436704e+00]\n",
      " [ 5.33562105e+00  7.61660487e+00  4.77227377e+00  6.19153892e+00\n",
      "   6.90816225e+00  3.26747278e+00  4.15092628e+00  5.96562196e+00\n",
      "   5.11451762e+00  5.56338095e+00  4.63199409e+00  5.27940377e+00\n",
      "   5.17062403e+00  3.59436704e+00  2.27373675e-13]]\n"
     ]
    }
   ],
   "source": [
    "print(Div_von_Neumann_Cov)"
   ]
  },
  {
   "cell_type": "code",
   "execution_count": 12,
   "metadata": {},
   "outputs": [
    {
     "name": "stdout",
     "output_type": "stream",
     "text": [
      "[[ 5.68434189e-14  2.68481550e+06  1.41885601e+06  2.55597022e+06\n",
      "   4.89478362e+05  9.23019012e+05  6.51579235e+06  3.57154702e+05\n",
      "   6.46565678e+05  1.04847655e+06  2.04710271e+05  2.26592534e+06\n",
      "   1.29544993e+07  1.02522273e+06  3.10948046e+06]\n",
      " [ 2.68481550e+06  0.00000000e+00  1.17386681e+05  6.28961491e+05\n",
      "   1.65950888e+05  7.14893916e+05  4.69612912e+05  1.70728364e+06\n",
      "   3.69620025e+05  4.26763081e+05  1.39265947e+06  4.84306336e+05\n",
      "   2.67021565e+06  2.40057545e+05  7.02824610e+05]\n",
      " [ 1.41885601e+06  1.17386681e+05  0.00000000e+00  2.17443880e+05\n",
      "   1.77106499e+05  2.42092768e+05  2.75948655e+05  4.35261924e+05\n",
      "   1.01556243e+05  2.18111023e+05  6.83591249e+05  3.35946927e+05\n",
      "   2.33961212e+06  1.06344190e+05  3.33369348e+05]\n",
      " [ 2.55597022e+06  6.28961491e+05  2.17443880e+05  0.00000000e+00\n",
      "   4.09954550e+05  7.30424437e+05  4.05703805e+05  3.50923708e+05\n",
      "   1.91915074e+05  4.98048491e+05  7.10210314e+05  5.46013149e+05\n",
      "   1.55104511e+06  5.98799854e+05  7.23136473e+05]\n",
      " [ 4.89478362e+05  1.65950888e+05  1.77106499e+05  4.09954550e+05\n",
      "   0.00000000e+00  1.78415685e+05  2.42245132e+05  7.87988936e+04\n",
      "   1.16666982e+05  3.03133234e+05  5.95145895e+04  1.57659731e+05\n",
      "   1.97912993e+05  1.21708708e+05  2.22473532e+05]\n",
      " [ 9.23019012e+05  7.14893916e+05  2.42092768e+05  7.30424437e+05\n",
      "   1.78415685e+05  0.00000000e+00  2.05315569e+05  9.04824344e+05\n",
      "   1.56169111e+05  2.22852784e+05  8.87166224e+04  6.61957365e+04\n",
      "   1.73776881e+05  2.04651980e+05  1.42974884e+05]\n",
      " [ 6.51579235e+06  4.69612912e+05  2.75948655e+05  4.05703805e+05\n",
      "   2.42245132e+05  2.05315569e+05  0.00000000e+00  1.26232007e+05\n",
      "   2.99209923e+05  4.40614400e+05  2.12851343e+05  1.32793650e+05\n",
      "   2.97502065e+05  3.70737409e+05  2.39979932e+05]\n",
      " [ 3.57154702e+05  1.70728364e+06  4.35261924e+05  3.50923708e+05\n",
      "   7.87988936e+04  9.04824344e+05  1.26232007e+05  0.00000000e+00\n",
      "   1.30683668e+05  2.71795310e+05  3.74427089e+05  1.42983844e+05\n",
      "   5.08997958e+05  9.80113937e+04  1.66027121e+05]\n",
      " [ 6.46565678e+05  3.69620025e+05  1.01556243e+05  1.91915074e+05\n",
      "   1.16666982e+05  1.56169111e+05  2.99209923e+05  1.30683668e+05\n",
      "   0.00000000e+00  1.14590126e+05  5.09262059e+05  6.47758128e+05\n",
      "   8.12773459e+05  2.28112675e+05  3.27721010e+05]\n",
      " [ 1.04847655e+06  4.26763081e+05  2.18111023e+05  4.98048491e+05\n",
      "   3.03133234e+05  2.22852784e+05  4.40614400e+05  2.71795310e+05\n",
      "   1.14590126e+05  0.00000000e+00  2.79200326e+05  2.88388976e+05\n",
      "   7.64589564e+05  1.70633337e+05  2.48287575e+05]\n",
      " [ 2.04710271e+05  1.39265947e+06  6.83591249e+05  7.10210314e+05\n",
      "   5.95145895e+04  8.87166224e+04  2.12851343e+05  3.74427089e+05\n",
      "   5.09262059e+05  2.79200326e+05  5.68434189e-14  1.14889268e+05\n",
      "   2.54705965e+05  1.21324299e+05  1.84820884e+05]\n",
      " [ 2.26592534e+06  4.84306336e+05  3.35946927e+05  5.46013149e+05\n",
      "   1.57659731e+05  6.61957365e+04  1.32793650e+05  1.42983844e+05\n",
      "   6.47758128e+05  2.88388976e+05  1.14889268e+05  0.00000000e+00\n",
      "   2.47894228e+05  1.23309856e+05  9.26451072e+04]\n",
      " [ 1.29544993e+07  2.67021565e+06  2.33961212e+06  1.55104511e+06\n",
      "   1.97912993e+05  1.73776881e+05  2.97502065e+05  5.08997958e+05\n",
      "   8.12773459e+05  7.64589564e+05  2.54705965e+05  2.47894228e+05\n",
      "   0.00000000e+00  1.52225219e+05  2.24554735e+05]\n",
      " [ 1.02522273e+06  2.40057545e+05  1.06344190e+05  5.98799854e+05\n",
      "   1.21708708e+05  2.04651980e+05  3.70737409e+05  9.80113937e+04\n",
      "   2.28112675e+05  1.70633337e+05  1.21324299e+05  1.23309856e+05\n",
      "   1.52225219e+05  0.00000000e+00  1.34466321e+05]\n",
      " [ 3.10948046e+06  7.02824610e+05  3.33369348e+05  7.23136473e+05\n",
      "   2.22473532e+05  1.42974884e+05  2.39979932e+05  1.66027121e+05\n",
      "   3.27721010e+05  2.48287575e+05  1.84820884e+05  9.26451072e+04\n",
      "   2.24554735e+05  1.34466321e+05 -2.27373675e-12]]\n"
     ]
    }
   ],
   "source": [
    "print(Div_LogDet_Cov)"
   ]
  },
  {
   "cell_type": "code",
   "execution_count": 20,
   "metadata": {},
   "outputs": [],
   "source": [
    "von_Neumann_Cov_X =np.zeros((len(Features), len(Features)))\n",
    "# von_Neumann_CorrEnt_X =np.zeros((len(Features), len(Features)))\n",
    "\n",
    "LogDet_Cov_X =np.zeros((len(Features), len(Features)))\n",
    "# LogDet_CorrEnt_X =np.zeros((len(Features), len(Features)))\n",
    "\n",
    "\n",
    "for i in range(len(Features)):        \n",
    "    for j in range(len(Features)):\n",
    "        von_Neumann_Cov_X[i,j] = von_Neumann_divergence_Eff(Persons_Cov_X[i], Persons_Cov_X[j])\n",
    "        # von_Neumann_CorrEnt_X[i,j] = von_Neumann_divergence_Eff(Persons_CorrEnt_X[i], Persons_CorrEnt_X[j])\n",
    "        LogDet_Cov_X[i,j] = log_det_divergenceEigSort(Persons_Cov_X[i], Persons_Cov_X[j])\n",
    "        # LogDet_CorrEnt_X[i,j] = log_det_divergenceEigSort(Persons_CorrEnt_X[i], Persons_CorrEnt_X[j])\n",
    "\n",
    "\n",
    "Div_von_Neumann_Cov_Un =np.zeros((len(Features), len(Features)))\n",
    "# Div_von_Neumann_CorrEnt_Un =np.zeros((len(Features), len(Features)))\n",
    "Div_LogDet_Cov_Un =np.zeros((len(Features), len(Features)))\n",
    "# Div_LogDet_CorrEnt_Un =np.zeros((len(Features), len(Features)))\n",
    "\n",
    "for i in range(len(Features)):        \n",
    "    for j in range(i+1):\n",
    "        Div_von_Neumann_Cov_Un[i,j] = 0.5 * (von_Neumann_Cov_X[i,j] + von_Neumann_Cov_X[j,i])\n",
    "        # Div_von_Neumann_CorrEnt_Un[i,j] = 0.5*(von_Neumann_CorrEnt_X[i,j] + von_Neumann_CorrEnt_X[j,i])\n",
    "        Div_LogDet_Cov_Un[i,j] = 0.5 * (LogDet_Cov_X[i,j] + LogDet_Cov_X[j,i])\n",
    "        # Div_LogDet_CorrEnt_Un[i,j] = 0.5 * (LogDet_CorrEnt_X[i,j] + LogDet_CorrEnt_X[j,i])\n",
    "        Div_von_Neumann_Cov_Un[j,i] = Div_von_Neumann_Cov_Un[i,j]\n",
    "        # Div_von_Neumann_CorrEnt_Un[j,i] = Div_von_Neumann_CorrEnt_Un[i,j]\n",
    "        Div_LogDet_Cov_Un[j,i] = Div_LogDet_Cov_Un[i,j]\n",
    "        # Div_LogDet_CorrEnt_Un[j,i] = Div_LogDet_CorrEnt_Un[i,j]"
   ]
  },
  {
   "cell_type": "code",
   "execution_count": 21,
   "metadata": {},
   "outputs": [
    {
     "name": "stdout",
     "output_type": "stream",
     "text": [
      "linear kernel\n"
     ]
    },
    {
     "data": {
      "text/plain": [
       "<matplotlib.colorbar.Colorbar at 0x1d820b6c040>"
      ]
     },
     "execution_count": 21,
     "metadata": {},
     "output_type": "execute_result"
    },
    {
     "data": {
      "text/plain": [
       "<Figure size 432x288 with 0 Axes>"
      ]
     },
     "metadata": {},
     "output_type": "display_data"
    },
    {
     "data": {
      "image/png": "[encoded data removed]",
      "text/plain": [
       "<Figure size 1440x1440 with 4 Axes>"
      ]
     },
     "metadata": {
      "needs_background": "light"
     },
     "output_type": "display_data"
    }
   ],
   "source": [
    "# print(\"linear kernel\")\n",
    "# plt.subplots_adjust(wspace=1, hspace=1)\n",
    "\n",
    "# f = plt.figure(figsize=(20,20))\n",
    "\n",
    "# ax1 = f.add_subplot(221)\n",
    "# i1 = ax1.imshow(Div_von_Neumann_Cov_Un, cmap='hot', interpolation='nearest')\n",
    "# plt.title(\"Div_von_Neumann_Cov_Un\")\n",
    "# plt.colorbar(i1,ax=ax1)\n",
    "\n",
    "\n",
    "# ax1 = f.add_subplot(222)\n",
    "# i1 = ax1.imshow(Div_von_Neumann_CorrEnt_Un, cmap='hot', interpolation='nearest')\n",
    "# plt.title(\"Div_von_Neumann_CorrEnt_Un\")\n",
    "# plt.colorbar(i1,ax=ax1)\n",
    "\n",
    "# ax1 = f.add_subplot(223)\n",
    "# i1 = ax1.imshow(Div_LogDet_Cov_Un, cmap='hot', interpolation='nearest')\n",
    "# plt.title(\"Div_LogDet_Cov_Un\")\n",
    "# plt.colorbar(i1,ax=ax1)\n",
    "\n",
    "# ax1 = f.add_subplot(224)\n",
    "# i1 = ax1.imshow(Div_LogDet_CorrEnt_Un, cmap='hot', interpolation='nearest')\n",
    "# plt.title(\"Div_LogDet_CorrEnt_Un\")\n",
    "# plt.colorbar(i1,ax=ax1)\n",
    "\n",
    "print(\"linear kernel\")\n",
    "plt.subplots_adjust(wspace=1, hspace=1)\n",
    "\n",
    "f = plt.figure(figsize=(20,20))\n",
    "\n",
    "ax1 = f.add_subplot(221)\n",
    "i1 = ax1.imshow(Div_von_Neumann_Cov_Un, cmap='hot', interpolation='nearest')\n",
    "plt.title(\"Div_von_Neumann_Cov_Un\")\n",
    "plt.colorbar(i1,ax=ax1)\n",
    "\n",
    "ax1 = f.add_subplot(222)\n",
    "i1 = ax1.imshow(Div_LogDet_Cov_Un, cmap='hot', interpolation='nearest')\n",
    "plt.title(\"Div_LogDet_Cov_Un\")\n",
    "plt.colorbar(i1,ax=ax1)"
   ]
  },
  {
   "cell_type": "code",
   "execution_count": 22,
   "metadata": {},
   "outputs": [
    {
     "name": "stdout",
     "output_type": "stream",
     "text": [
      "[[-3.41060513e-13  2.92667586e+03  1.25684777e+03  2.06704126e+03\n",
      "   1.43044841e+03  1.09118447e+03  1.06519510e+03  1.50617911e+03\n",
      "   1.24622513e+03  1.00256403e+03  9.98473435e+02  9.91698752e+02\n",
      "   1.11795490e+03  1.03892609e+03  1.02216198e+03]\n",
      " [ 2.92667586e+03 -9.09494702e-13  1.66912751e+03  3.10573407e+03\n",
      "   2.78797411e+03  2.72750955e+03  2.85383398e+03  2.88556926e+03\n",
      "   1.59432805e+03  2.66070215e+03  2.88228975e+03  2.78283046e+03\n",
      "   2.69532670e+03  2.72285342e+03  2.70732918e+03]\n",
      " [ 1.25684777e+03  1.66912751e+03 -3.97903932e-13  1.44517562e+03\n",
      "   1.17201818e+03  6.09338973e+02  6.14686573e+02  1.09631979e+03\n",
      "   7.44608530e+02  5.04456888e+02  9.42295517e+02  8.92075259e+02\n",
      "   9.78340725e+02  1.01558198e+03  7.80870011e+02]\n",
      " [ 2.06704126e+03  3.10573407e+03  1.44517562e+03 -2.27373675e-13\n",
      "   1.70084644e+03  1.47373562e+03  1.49401259e+03  1.72905417e+03\n",
      "   1.17034265e+03  1.30151503e+03  1.49638991e+03  1.40623244e+03\n",
      "   1.48314332e+03  1.47777224e+03  1.36499100e+03]\n",
      " [ 1.43044841e+03  2.78797411e+03  1.17201818e+03  1.70084644e+03\n",
      "  -1.13686838e-13  7.00510336e+02  8.13988424e+02  7.94820478e+02\n",
      "   8.55221789e+02  6.59680111e+02  6.76149885e+02  7.46205255e+02\n",
      "   6.46518584e+02  6.93615820e+02  5.60640459e+02]\n",
      " [ 1.09118447e+03  2.72750955e+03  6.09338973e+02  1.47373562e+03\n",
      "   7.00510336e+02  1.42108547e-14  3.35449850e+02  7.46283275e+02\n",
      "   7.50991135e+02  2.80298626e+02  3.31605122e+02  3.85926214e+02\n",
      "   3.75293384e+02  5.23333808e+02  3.46019302e+02]\n",
      " [ 1.06519510e+03  2.85383398e+03  6.14686573e+02  1.49401259e+03\n",
      "   8.13988424e+02  3.35449850e+02  2.27373675e-13  6.91746594e+02\n",
      "   7.38651818e+02  2.47859185e+02  3.45622652e+02  3.54601965e+02\n",
      "   4.78290331e+02  4.49604671e+02  3.21557204e+02]\n",
      " [ 1.50617911e+03  2.88556926e+03  1.09631979e+03  1.72905417e+03\n",
      "   7.94820478e+02  7.46283275e+02  6.91746594e+02 -1.13686838e-13\n",
      "   9.34866173e+02  6.84691845e+02  7.95806852e+02  7.20465119e+02\n",
      "   7.97447195e+02  7.45132985e+02  6.65229802e+02]\n",
      " [ 1.24622513e+03  1.59432805e+03  7.44608530e+02  1.17034265e+03\n",
      "   8.55221789e+02  7.50991135e+02  7.38651818e+02  9.34866173e+02\n",
      "  -9.09494702e-13  5.53490400e+02  7.19194022e+02  6.05719611e+02\n",
      "   6.69752738e+02  6.90634538e+02  6.92069253e+02]\n",
      " [ 1.00256403e+03  2.66070215e+03  5.04456888e+02  1.30151503e+03\n",
      "   6.59680111e+02  2.80298626e+02  2.47859185e+02  6.84691845e+02\n",
      "   5.53490400e+02 -5.68434189e-14  2.98569563e+02  3.32686666e+02\n",
      "   3.36444839e+02  3.96318462e+02  2.83512697e+02]\n",
      " [ 9.98473435e+02  2.88228975e+03  9.42295517e+02  1.49638991e+03\n",
      "   6.76149885e+02  3.31605122e+02  3.45622652e+02  7.95806852e+02\n",
      "   7.19194022e+02  2.98569563e+02 -9.09494702e-13  2.67229662e+02\n",
      "   3.04693526e+02  3.97230253e+02  2.70612633e+02]\n",
      " [ 9.91698752e+02  2.78283046e+03  8.92075259e+02  1.40623244e+03\n",
      "   7.46205255e+02  3.85926214e+02  3.54601965e+02  7.20465119e+02\n",
      "   6.05719611e+02  3.32686666e+02  2.67229662e+02 -5.11590770e-13\n",
      "   2.51446071e+02  3.95935660e+02  2.69180825e+02]\n",
      " [ 1.11795490e+03  2.69532670e+03  9.78340725e+02  1.48314332e+03\n",
      "   6.46518584e+02  3.75293384e+02  4.78290331e+02  7.97447195e+02\n",
      "   6.69752738e+02  3.36444839e+02  3.04693526e+02  2.51446071e+02\n",
      "   2.84217094e-13  4.19052846e+02  3.25026826e+02]\n",
      " [ 1.03892609e+03  2.72285342e+03  1.01558198e+03  1.47777224e+03\n",
      "   6.93615820e+02  5.23333808e+02  4.49604671e+02  7.45132985e+02\n",
      "   6.90634538e+02  3.96318462e+02  3.97230253e+02  3.95935660e+02\n",
      "   4.19052846e+02  5.68434189e-13  3.36361965e+02]\n",
      " [ 1.02216198e+03  2.70732918e+03  7.80870011e+02  1.36499100e+03\n",
      "   5.60640459e+02  3.46019302e+02  3.21557204e+02  6.65229802e+02\n",
      "   6.92069253e+02  2.83512697e+02  2.70612633e+02  2.69180825e+02\n",
      "   3.25026826e+02  3.36361965e+02  2.84217094e-14]]\n"
     ]
    }
   ],
   "source": [
    "print(Div_von_Neumann_Cov_Un)"
   ]
  },
  {
   "cell_type": "code",
   "execution_count": 23,
   "metadata": {},
   "outputs": [
    {
     "name": "stdout",
     "output_type": "stream",
     "text": [
      "[[0.00000000e+00 5.56175830e+07 3.83021956e+07 3.26682890e+08\n",
      "  2.01217067e+07 7.55699306e+08 4.29406838e+08 3.40395213e+07\n",
      "  2.17695868e+07 3.59334911e+08 5.01166359e+07 3.09137236e+08\n",
      "  3.20595332e+08 2.36240497e+07 2.90337879e+08]\n",
      " [5.56175830e+07 0.00000000e+00 1.75985702e+07 4.78268220e+07\n",
      "  2.67805636e+07 5.74924649e+07 1.27970138e+08 3.09782791e+07\n",
      "  1.04390962e+07 1.01263664e+08 2.30201562e+08 5.76013406e+07\n",
      "  2.30260724e+08 5.80114215e+07 1.92061542e+08]\n",
      " [3.83021956e+07 1.75985702e+07 0.00000000e+00 2.69188607e+07\n",
      "  1.97764497e+07 2.98836194e+07 2.55906452e+07 2.39508462e+07\n",
      "  1.83744543e+07 1.70914155e+07 2.14958717e+08 2.39789892e+07\n",
      "  1.23410997e+08 2.52450034e+07 4.01111866e+07]\n",
      " [3.26682890e+08 4.78268220e+07 2.69188607e+07 0.00000000e+00\n",
      "  4.26104062e+07 9.24421738e+07 6.37989685e+07 3.35362540e+07\n",
      "  4.92435599e+07 7.19266012e+07 2.01857412e+08 3.80554180e+07\n",
      "  1.81580759e+08 4.71186550e+07 8.24186685e+07]\n",
      " [2.01217067e+07 2.67805636e+07 1.97764497e+07 4.26104062e+07\n",
      "  0.00000000e+00 3.62377921e+07 1.22003376e+07 6.22022933e+06\n",
      "  5.71544278e+06 1.79924693e+07 8.73755631e+06 1.16887498e+07\n",
      "  1.35841866e+07 4.68557755e+06 2.11178345e+07]\n",
      " [7.55699306e+08 5.74924649e+07 2.98836194e+07 9.24421738e+07\n",
      "  3.62377921e+07 0.00000000e+00 2.24693658e+07 2.53996389e+07\n",
      "  6.07168255e+07 3.17653913e+07 3.77481490e+07 2.12591616e+07\n",
      "  1.58769911e+07 2.23803830e+07 2.16128365e+07]\n",
      " [4.29406838e+08 1.27970138e+08 2.55906452e+07 6.37989685e+07\n",
      "  1.22003376e+07 2.24693658e+07 0.00000000e+00 8.96309294e+06\n",
      "  3.05748333e+07 2.20614785e+07 6.33923431e+07 9.46863609e+06\n",
      "  1.45912748e+07 9.93313999e+06 1.63304128e+07]\n",
      " [3.40395213e+07 3.09782791e+07 2.39508462e+07 3.35362540e+07\n",
      "  6.22022933e+06 2.53996389e+07 8.96309294e+06 0.00000000e+00\n",
      "  9.77996231e+06 1.58143310e+07 6.00930529e+07 1.01743841e+07\n",
      "  3.67197032e+07 5.20736922e+06 2.94293552e+07]\n",
      " [2.17695868e+07 1.04390962e+07 1.83744543e+07 4.92435599e+07\n",
      "  5.71544278e+06 6.07168255e+07 3.05748333e+07 9.77996231e+06\n",
      "  0.00000000e+00 1.67585804e+07 1.19788131e+08 2.51331795e+07\n",
      "  8.54253762e+07 9.16682792e+06 6.62816373e+07]\n",
      " [3.59334911e+08 1.01263664e+08 1.70914155e+07 7.19266012e+07\n",
      "  1.79924693e+07 3.17653913e+07 2.20614785e+07 1.58143310e+07\n",
      "  1.67585804e+07 0.00000000e+00 4.21962244e+07 3.11434415e+07\n",
      "  1.82687112e+07 9.53127140e+06 1.57133947e+07]\n",
      " [5.01166359e+07 2.30201562e+08 2.14958717e+08 2.01857412e+08\n",
      "  8.73755631e+06 3.77481490e+07 6.33923431e+07 6.00930529e+07\n",
      "  1.19788131e+08 4.21962244e+07 0.00000000e+00 1.11319011e+07\n",
      "  1.04369380e+07 1.32657188e+07 1.75904951e+07]\n",
      " [3.09137236e+08 5.76013406e+07 2.39789892e+07 3.80554180e+07\n",
      "  1.16887498e+07 2.12591616e+07 9.46863609e+06 1.01743841e+07\n",
      "  2.51331795e+07 3.11434415e+07 1.11319011e+07 0.00000000e+00\n",
      "  8.95803586e+06 8.77298820e+06 9.06510283e+06]\n",
      " [3.20595332e+08 2.30260724e+08 1.23410997e+08 1.81580759e+08\n",
      "  1.35841866e+07 1.58769911e+07 1.45912748e+07 3.67197032e+07\n",
      "  8.54253762e+07 1.82687112e+07 1.04369380e+07 8.95803586e+06\n",
      "  0.00000000e+00 1.09585618e+07 2.01004212e+07]\n",
      " [2.36240497e+07 5.80114215e+07 2.52450034e+07 4.71186550e+07\n",
      "  4.68557755e+06 2.23803830e+07 9.93313999e+06 5.20736922e+06\n",
      "  9.16682792e+06 9.53127140e+06 1.32657188e+07 8.77298820e+06\n",
      "  1.09585618e+07 0.00000000e+00 1.46311915e+07]\n",
      " [2.90337879e+08 1.92061542e+08 4.01111866e+07 8.24186685e+07\n",
      "  2.11178345e+07 2.16128365e+07 1.63304128e+07 2.94293552e+07\n",
      "  6.62816373e+07 1.57133947e+07 1.75904951e+07 9.06510283e+06\n",
      "  2.01004212e+07 1.46311915e+07 2.27373675e-12]]\n"
     ]
    }
   ],
   "source": [
    "print(Div_LogDet_Cov_Un)"
   ]
  },
  {
   "cell_type": "code",
   "execution_count": 29,
   "metadata": {},
   "outputs": [
    {
     "name": "stdout",
     "output_type": "stream",
     "text": [
      "30\n",
      "(1697, 310)\n",
      "30\n",
      "(1697, 1)\n"
     ]
    }
   ],
   "source": [
    "# load data\n",
    "EEG_X = sio.loadmat('./SEED_III/EEG_X.mat')['X'][0]     # 15 x 3394 x 310\n",
    "EEG_Y = sio.loadmat('./SEED_III/EEG_Y.mat')['Y'][0]     # 15 x 3394 x 1\n",
    "\n",
    "Features_unfold = [0] * (2*EEG_X.shape[0])\n",
    "for i in range(EEG_X.shape[0]):\n",
    "    Features_unfold[2*i] = np.array(EEG_X[i][:(EEG_X[i].shape[0]//2)])\n",
    "    Features_unfold[2*i+1] = np.array(EEG_X[i][(EEG_X[i].shape[0]//2):])\n",
    "\n",
    "Labels_unfold = [0] * (2*EEG_Y.shape[0])\n",
    "for i in range(EEG_Y.shape[0]):\n",
    "    Labels_unfold[2*i] = np.array(EEG_Y[i][:(EEG_Y[i].shape[0]//2)])\n",
    "    Labels_unfold[2*i+1] = np.array(EEG_Y[i][(EEG_Y[i].shape[0]//2):])\n",
    "\n",
    "print(len(Features_unfold))\n",
    "print(Features_unfold[0].shape)\n",
    "print(len(Labels_unfold))\n",
    "print(Labels_unfold[0].shape)"
   ]
  },
  {
   "cell_type": "code",
   "execution_count": 30,
   "metadata": {},
   "outputs": [
    {
     "name": "stdout",
     "output_type": "stream",
     "text": [
      "Expand 0\n",
      "Expand 1\n",
      "Expand 2\n",
      "Expand 3\n",
      "Expand 4\n",
      "Expand 5\n",
      "Expand 6\n",
      "Expand 7\n",
      "Expand 8\n",
      "Expand 9\n",
      "Expand 10\n",
      "Expand 11\n",
      "Expand 12\n",
      "Expand 13\n",
      "Expand 14\n",
      "Expand 15\n",
      "Expand 16\n",
      "Expand 17\n",
      "Expand 18\n",
      "Expand 19\n",
      "Expand 20\n",
      "Expand 21\n",
      "Expand 22\n",
      "Expand 23\n",
      "Expand 24\n",
      "Expand 25\n",
      "Expand 26\n",
      "Expand 27\n",
      "Expand 28\n",
      "Expand 29\n"
     ]
    }
   ],
   "source": [
    "Persons_Cov_X_unfold = []\n",
    "Persons_Cov_XY_unfold = []\n",
    "Persons_CorrEnt_X_unfold = []\n",
    "Persons_CorrEnt_XY_unfold = []\n",
    "for i in range(len(Features_unfold)):\n",
    "    print(\"Expand\", i)\n",
    "\n",
    "    data = Features_unfold[i].transpose()\n",
    "    Cov = np.array([[np.cov(data[i,:],data[j,:])[0,1] for j in range(data.shape[0])] for i in range(data.shape[0])])\n",
    "    Persons_Cov_X_unfold.append(Cov)\n",
    "\n",
    "    # data = Features_unfold[i]\n",
    "    # Corr = corrent_matrix(data, kernel_size=KERNEL_SIZE)\n",
    "    # Persons_CorrEnt_X_unfold.append(Corr)\n",
    "\n",
    "    data = np.hstack((Features_unfold[i], Labels_unfold[i])).transpose()\n",
    "    Cov = np.array([[np.cov(data[i,:],data[j,:])[0,1] for j in range(data.shape[0])] for i in range(data.shape[0])])\n",
    "    Persons_Cov_XY_unfold.append(Cov)\n",
    "\n",
    "    # data =np.hstack((Features_unfold[i], Labels_unfold[i]))\n",
    "    # Corr = corrent_matrix(data, kernel_size=KERNEL_SIZE)\n",
    "    # Persons_CorrEnt_XY_unfold.append(Corr)"
   ]
  },
  {
   "cell_type": "code",
   "execution_count": 33,
   "metadata": {},
   "outputs": [
    {
     "name": "stderr",
     "output_type": "stream",
     "text": [
      "100%|██████████| 30/30 [11:09<00:00, 22.31s/it]\n",
      "100%|██████████| 30/30 [00:00<00:00, 13991.90it/s]\n"
     ]
    }
   ],
   "source": [
    "von_Neumann_Cov_X_unfold =np.zeros((len(Features_unfold), len(Features_unfold)))\n",
    "von_Neumann_Cov_XY_unfold =np.zeros((len(Features_unfold), len(Features_unfold)))\n",
    "# von_Neumann_CorrEnt_X_unfold =np.zeros((len(Features_unfold), len(Features_unfold)))\n",
    "# von_Neumann_CorrEnt_XY_unfold =np.zeros((len(Features_unfold), len(Features_unfold)))\n",
    "\n",
    "LogDet_Cov_X_unfold =np.zeros((len(Features_unfold), len(Features_unfold)))\n",
    "LogDet_Cov_XY_unfold =np.zeros((len(Features_unfold), len(Features_unfold)))\n",
    "# LogDet_CorrEnt_X_unfold =np.zeros((len(Features_unfold), len(Features_unfold)))\n",
    "# LogDet_CorrEnt_XY_unfold =np.zeros((len(Features_unfold), len(Features_unfold)))\n",
    "\n",
    "\n",
    "for i in trange(len(Features_unfold)):        \n",
    "    for j in range(len(Features_unfold)):\n",
    "        von_Neumann_Cov_X_unfold[i,j] = von_Neumann_divergence_Eff(Persons_Cov_X_unfold[i], Persons_Cov_X_unfold[j])\n",
    "        von_Neumann_Cov_XY_unfold[i,j] = von_Neumann_divergence_Eff(Persons_Cov_XY_unfold[i], Persons_Cov_XY_unfold[j])\n",
    "        # von_Neumann_CorrEnt_X_unfold[i,j] = von_Neumann_divergence_Eff(Persons_CorrEnt_X_unfold[i], Persons_CorrEnt_X_unfold[j])\n",
    "        # von_Neumann_CorrEnt_XY_unfold[i,j] = von_Neumann_divergence_Eff(Persons_CorrEnt_XY_unfold[i], Persons_CorrEnt_XY_unfold[j])\n",
    "        LogDet_Cov_X_unfold[i,j] = log_det_divergenceEigSort(Persons_Cov_X_unfold[i], Persons_Cov_X_unfold[j])\n",
    "        LogDet_Cov_XY_unfold[i,j] = log_det_divergenceEigSort(Persons_Cov_XY_unfold[i], Persons_Cov_XY_unfold[j])\n",
    "        # LogDet_CorrEnt_X_unfold[i,j] = log_det_divergenceEigSort(Persons_CorrEnt_X_unfold[i], Persons_CorrEnt_X_unfold[j])\n",
    "        # LogDet_CorrEnt_XY_unfold[i,j] = log_det_divergenceEigSort(Persons_CorrEnt_XY_unfold[i], Persons_CorrEnt_XY_unfold[j])\n",
    "\n",
    "\n",
    "Div_von_Neumann_Cov_unfold =np.zeros((len(Features_unfold), len(Features_unfold)))\n",
    "# Div_von_Neumann_CorrEnt_unfold =np.zeros((len(Features_unfold), len(Features_unfold)))\n",
    "Div_LogDet_Cov_unfold =np.zeros((len(Features_unfold), len(Features_unfold)))\n",
    "# Div_LogDet_CorrEnt_unfold =np.zeros((len(Features_unfold), len(Features_unfold)))\n",
    "\n",
    "for i in trange(len(Features_unfold)):        \n",
    "    for j in range(i+1):\n",
    "        Div_von_Neumann_Cov_unfold[i,j] = 0.5 * (von_Neumann_Cov_XY_unfold[i,j] + von_Neumann_Cov_XY_unfold[j,i] - von_Neumann_Cov_X_unfold[i,j] - von_Neumann_Cov_X_unfold[j,i])\n",
    "        # Div_von_Neumann_CorrEnt_unfold[i,j] = 0.5*(von_Neumann_CorrEnt_XY_unfold[i,j] + von_Neumann_CorrEnt_XY_unfold[j,i] - von_Neumann_CorrEnt_X_unfold[i,j] - von_Neumann_CorrEnt_X_unfold[j,i])\n",
    "        Div_LogDet_Cov_unfold[i,j] = 0.5 * (LogDet_Cov_XY_unfold[i,j] + LogDet_Cov_XY_unfold[j,i] - LogDet_Cov_X_unfold[i,j] - LogDet_Cov_X_unfold[j,i])\n",
    "        # Div_LogDet_CorrEnt_unfold[i,j] = 0.5 * (LogDet_CorrEnt_XY_unfold[i,j] + LogDet_CorrEnt_XY_unfold[j,i] - LogDet_CorrEnt_X_unfold[i,j] - LogDet_CorrEnt_X_unfold[j,i])\n",
    "        Div_von_Neumann_Cov_unfold[j,i] = Div_von_Neumann_Cov_unfold[i,j]\n",
    "        # Div_von_Neumann_CorrEnt_unfold[j,i] = Div_von_Neumann_CorrEnt_unfold[i,j]\n",
    "        Div_LogDet_Cov_unfold[j,i] = Div_LogDet_Cov_unfold[i,j]\n",
    "        # Div_LogDet_CorrEnt_unfold[j,i] = Div_LogDet_CorrEnt_unfold[i,j]"
   ]
  },
  {
   "cell_type": "code",
   "execution_count": 34,
   "metadata": {},
   "outputs": [
    {
     "name": "stdout",
     "output_type": "stream",
     "text": [
      "linear kernel\n"
     ]
    },
    {
     "data": {
      "text/plain": [
       "<matplotlib.colorbar.Colorbar at 0x1d824a0c940>"
      ]
     },
     "execution_count": 34,
     "metadata": {},
     "output_type": "execute_result"
    },
    {
     "data": {
      "text/plain": [
       "<Figure size 432x288 with 0 Axes>"
      ]
     },
     "metadata": {},
     "output_type": "display_data"
    },
    {
     "data": {
      "image/png": "[encoded data removed]",
      "text/plain": [
       "<Figure size 1440x1440 with 4 Axes>"
      ]
     },
     "metadata": {
      "needs_background": "light"
     },
     "output_type": "display_data"
    }
   ],
   "source": [
    "# print(\"linear kernel\")\n",
    "# plt.subplots_adjust(wspace=1, hspace=1)\n",
    "\n",
    "# f = plt.figure(figsize=(20,20))\n",
    "\n",
    "# ax1 = f.add_subplot(221)\n",
    "# i1 = ax1.imshow(Div_von_Neumann_Cov_unfold, cmap='hot', interpolation='nearest')\n",
    "# plt.title(\"Div_von_Neumann_Cov_unfold\")\n",
    "# plt.colorbar(i1,ax=ax1)\n",
    "\n",
    "\n",
    "# ax1 = f.add_subplot(222)\n",
    "# i1 = ax1.imshow(Div_von_Neumann_CorrEnt_unfold, cmap='hot', interpolation='nearest')\n",
    "# plt.title(\"Div_von_Neumann_CorrEnt_unfold\")\n",
    "# plt.colorbar(i1,ax=ax1)\n",
    "\n",
    "# ax1 = f.add_subplot(223)\n",
    "# i1 = ax1.imshow(Div_LogDet_Cov_unfold, cmap='hot', interpolation='nearest')\n",
    "# plt.title(\"Div_LogDet_Cov_unfold\")\n",
    "# plt.colorbar(i1,ax=ax1)\n",
    "\n",
    "# ax1 = f.add_subplot(224)\n",
    "# i1 = ax1.imshow(Div_LogDet_CorrEnt_unfold, cmap='hot', interpolation='nearest')\n",
    "# plt.title(\"Div_LogDet_CorrEnt_unfold\")\n",
    "# plt.colorbar(i1,ax=ax1)\n",
    "\n",
    "print(\"linear kernel\")\n",
    "plt.subplots_adjust(wspace=1, hspace=1)\n",
    "\n",
    "f = plt.figure(figsize=(20,20))\n",
    "\n",
    "ax1 = f.add_subplot(221)\n",
    "i1 = ax1.imshow(Div_von_Neumann_Cov_unfold, cmap='hot', interpolation='nearest')\n",
    "plt.title(\"Div_von_Neumann_Cov_unfold\")\n",
    "plt.colorbar(i1,ax=ax1)\n",
    "\n",
    "ax1 = f.add_subplot(222)\n",
    "i1 = ax1.imshow(Div_LogDet_Cov_unfold, cmap='hot', interpolation='nearest')\n",
    "plt.title(\"Div_LogDet_Cov_unfold\")\n",
    "plt.colorbar(i1,ax=ax1)"
   ]
  },
  {
   "cell_type": "code",
   "execution_count": 36,
   "metadata": {},
   "outputs": [
    {
     "name": "stderr",
     "output_type": "stream",
     "text": [
      "100%|██████████| 30/30 [05:38<00:00, 11.29s/it]\n",
      "100%|██████████| 30/30 [00:00<00:00, 29725.75it/s]\n"
     ]
    }
   ],
   "source": [
    "von_Neumann_Cov_X_unfold =np.zeros((len(Features_unfold), len(Features_unfold)))\n",
    "# von_Neumann_CorrEnt_X_unfold =np.zeros((len(Features_unfold), len(Features_unfold)))\n",
    "\n",
    "LogDet_Cov_X_unfold =np.zeros((len(Features_unfold), len(Features_unfold)))\n",
    "# LogDet_CorrEnt_X_unfold =np.zeros((len(Features_unfold), len(Features_unfold)))\n",
    "\n",
    "\n",
    "for i in trange(len(Features_unfold)):        \n",
    "    for j in range(len(Features_unfold)):\n",
    "        von_Neumann_Cov_X_unfold[i,j] = von_Neumann_divergence_Eff(Persons_Cov_X_unfold[i], Persons_Cov_X_unfold[j])\n",
    "        # von_Neumann_CorrEnt_X_unfold[i,j] = von_Neumann_divergence_Eff(Persons_CorrEnt_X_unfold[i], Persons_CorrEnt_X_unfold[j])\n",
    "        LogDet_Cov_X_unfold[i,j] = log_det_divergenceEigSort(Persons_Cov_X_unfold[i], Persons_Cov_X_unfold[j])\n",
    "        # LogDet_CorrEnt_X_unfold[i,j] = log_det_divergenceEigSort(Persons_CorrEnt_X_unfold[i], Persons_CorrEnt_X_unfold[j])\n",
    "\n",
    "\n",
    "Div_von_Neumann_Cov_Un_unfold =np.zeros((len(Features_unfold), len(Features_unfold)))\n",
    "# Div_von_Neumann_CorrEnt_Un_unfold =np.zeros((len(Features_unfold), len(Features_unfold)))\n",
    "Div_LogDet_Cov_Un_unfold =np.zeros((len(Features_unfold), len(Features_unfold)))\n",
    "# Div_LogDet_CorrEnt_Un_unfold =np.zeros((len(Features_unfold), len(Features_unfold)))\n",
    "\n",
    "for i in trange(len(Features_unfold)):        \n",
    "    for j in range(i+1):\n",
    "        Div_von_Neumann_Cov_Un_unfold[i,j] = 0.5 * (von_Neumann_Cov_X_unfold[i,j] + von_Neumann_Cov_X_unfold[j,i])\n",
    "        # Div_von_Neumann_CorrEnt_Un_unfold[i,j] = 0.5*(von_Neumann_CorrEnt_X_unfold[i,j] + von_Neumann_CorrEnt_X_unfold[j,i])\n",
    "        Div_LogDet_Cov_Un_unfold[i,j] = 0.5 * (LogDet_Cov_X_unfold[i,j] + LogDet_Cov_X_unfold[j,i])\n",
    "        # Div_LogDet_CorrEnt_Un_unfold[i,j] = 0.5 * (LogDet_CorrEnt_X_unfold[i,j] + LogDet_CorrEnt_X_unfold[j,i])\n",
    "        Div_von_Neumann_Cov_Un_unfold[j,i] = Div_von_Neumann_Cov_Un_unfold[i,j]\n",
    "        # Div_von_Neumann_CorrEnt_Un_unfold[j,i] = Div_von_Neumann_CorrEnt_Un_unfold[i,j]\n",
    "        Div_LogDet_Cov_Un_unfold[j,i] = Div_LogDet_Cov_Un_unfold[i,j]\n",
    "        # Div_LogDet_CorrEnt_Un_unfold[j,i] = Div_LogDet_CorrEnt_Un_unfold[i,j]"
   ]
  },
  {
   "cell_type": "code",
   "execution_count": 37,
   "metadata": {},
   "outputs": [
    {
     "name": "stdout",
     "output_type": "stream",
     "text": [
      "linear kernel\n"
     ]
    },
    {
     "data": {
      "text/plain": [
       "<matplotlib.colorbar.Colorbar at 0x1d82e30b340>"
      ]
     },
     "execution_count": 37,
     "metadata": {},
     "output_type": "execute_result"
    },
    {
     "data": {
      "text/plain": [
       "<Figure size 432x288 with 0 Axes>"
      ]
     },
     "metadata": {},
     "output_type": "display_data"
    },
    {
     "data": {
      "image/png": "[encoded data removed]",
      "text/plain": [
       "<Figure size 1440x1440 with 4 Axes>"
      ]
     },
     "metadata": {
      "needs_background": "light"
     },
     "output_type": "display_data"
    }
   ],
   "source": [
    "# print(\"linear kernel\")\n",
    "# plt.subplots_adjust(wspace=1, hspace=1)\n",
    "\n",
    "# f = plt.figure(figsize=(20,20))\n",
    "\n",
    "# ax1 = f.add_subplot(221)\n",
    "# i1 = ax1.imshow(Div_von_Neumann_Cov_Un_unfold, cmap='hot', interpolation='nearest')\n",
    "# plt.title(\"Div_von_Neumann_Cov_Un_unfold\")\n",
    "# plt.colorbar(i1,ax=ax1)\n",
    "\n",
    "\n",
    "# ax1 = f.add_subplot(222)\n",
    "# i1 = ax1.imshow(Div_von_Neumann_CorrEnt_Un_unfold, cmap='hot', interpolation='nearest')\n",
    "# plt.title(\"Div_von_Neumann_CorrEnt_Un_unfold\")\n",
    "# plt.colorbar(i1,ax=ax1)\n",
    "\n",
    "# ax1 = f.add_subplot(223)\n",
    "# i1 = ax1.imshow(Div_LogDet_Cov_Un_unfold, cmap='hot', interpolation='nearest')\n",
    "# plt.title(\"Div_LogDet_Cov_Un_unfold\")\n",
    "# plt.colorbar(i1,ax=ax1)\n",
    "\n",
    "# ax1 = f.add_subplot(224)\n",
    "# i1 = ax1.imshow(Div_LogDet_CorrEnt_Un_unfold, cmap='hot', interpolation='nearest')\n",
    "# plt.title(\"Div_LogDet_CorrEnt_Un_unfold\")\n",
    "# plt.colorbar(i1,ax=ax1)\n",
    "\n",
    "print(\"linear kernel\")\n",
    "plt.subplots_adjust(wspace=1, hspace=1)\n",
    "\n",
    "f = plt.figure(figsize=(20,20))\n",
    "\n",
    "ax1 = f.add_subplot(221)\n",
    "i1 = ax1.imshow(Div_von_Neumann_Cov_Un_unfold, cmap='hot', interpolation='nearest')\n",
    "plt.title(\"Div_von_Neumann_Cov_Un_unfold\")\n",
    "plt.colorbar(i1,ax=ax1)\n",
    "\n",
    "ax1 = f.add_subplot(222)\n",
    "i1 = ax1.imshow(Div_LogDet_Cov_Un_unfold, cmap='hot', interpolation='nearest')\n",
    "plt.title(\"Div_LogDet_Cov_Un_unfold\")\n",
    "plt.colorbar(i1,ax=ax1)"
   ]
  }
 ],
 "metadata": {
  "interpreter": {
   "hash": "29dd11bf16d40fe19950dcc2f06dd773fb6bc4491ac296fb211bfed7a4a532da"
  },
  "kernelspec": {
   "display_name": "Python 3.8.8 ('base')",
   "language": "python",
   "name": "python3"
  },
  "language_info": {
   "codemirror_mode": {
    "name": "ipython",
    "version": 3
   },
   "file_extension": ".py",
   "mimetype": "text/x-python",
   "name": "python",
   "nbconvert_exporter": "python",
   "pygments_lexer": "ipython3",
   "version": "3.8.8"
  },
  "orig_nbformat": 4
 },
 "nbformat": 4,
 "nbformat_minor": 2
}
